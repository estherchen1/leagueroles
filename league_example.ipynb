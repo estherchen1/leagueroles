{
  "nbformat": 4,
  "nbformat_minor": 0,
  "metadata": {
    "colab": {
      "name": "league example",
      "provenance": [],
      "collapsed_sections": []
    },
    "kernelspec": {
      "name": "python3",
      "display_name": "Python 3"
    }
  },
  "cells": [
    {
      "cell_type": "markdown",
      "metadata": {
        "id": "4Hk1HIhTmYt2"
      },
      "source": [
        "<h2>Analyzing Role Strength and Impact in League of Legends Solo/Duo Queue</h2>\r\n",
        "\r\n",
        "<h3>Background</h3>\r\n",
        "<p>League of Legends is a multiplayer online game in which the main objective of a team is to destroy the enemy team's nexus which is located in their base. Each team is made up of five players with unique roles: A top laner, a mid laner, a carry and a support in the botlane, and a jungler. Each role has various functions and provides different value to a team. In the top lane, there is usually a tank character meant to soak damage, in the midlane a damage dealing mage or assassin, and in the jungle role anything in between. In the botlane, the carry is usually a marksman ranged character who plays with a support who provides protection or set up for damage dealers and vision on the map.</p>\r\n",
        "\r\n",
        "<center>\r\n",
        "<figure>\r\n",
        "  <img src=\"https://i.imgur.com/niHUZFr.jpg\">\r\n",
        "  <figcaption>A mini map of Summoner's Rift.</figcaption>\r\n",
        "</figure>\r\n",
        "</center>\r\n",
        "\r\n",
        "<h3>Motivation</h3>\r\n",
        "<p>There is much discussion around imbalance of the powers of different roles in the game. Most notably, the jungle role receives attention for its ability to singlehandedly impact the outcome of a game. But is there any data or statistics that could provide evidence or context for these claims? Is there a significant difference in the ability of a single role to impact the outcome of a game? That is what I set out to discover in this notebook. I also wished to practice pulling data through an API and using Python to manipulate data.</p>\r\n",
        "\r\n",
        "<h3>Method</h3>\r\n",
        "<p>In order to assess the impact of a role, I decided that the variables I would use was the gold differential and experience differential of each role in the first 10 minutes, and the target would be whether the team won or not. \r\n",
        "\r\n",
        "I want to use data from high elo games (Grandmaster-Challenger) because I assume that information from those games will reflect gameplay decisions that are more optimal and standard and decrease variation from that source.</p> \r\n",
        "\r\n",
        "<h3>Necessary Data</h3>\r\n",
        "The data that I require to perform this analysis would be to get the amount of gold, experience, and creeps that each player has at the ten minute mark into the game. "
      ]
    },
    {
      "cell_type": "code",
      "metadata": {
        "id": "WTKoQ6EOkpZa",
        "colab": {
          "base_uri": "https://localhost:8080/"
        },
        "outputId": "862b6ebf-cde4-4598-9e76-474aae0abee7"
      },
      "source": [
        "#installing packages \r\n",
        "!pip install responses\r\n",
        "!pip install requests\r\n",
        "!pip install pandas \r\n",
        "!pip install numpy\r\n",
        "!pip install time"
      ],
      "execution_count": null,
      "outputs": [
        {
          "output_type": "stream",
          "text": [
            "Collecting responses\n",
            "  Downloading https://files.pythonhosted.org/packages/d5/71/4f04aed03ca35f2d02e1732ca6e996b2d7b40232fb7f1b58ff35f9a89b7b/responses-0.12.1-py2.py3-none-any.whl\n",
            "Requirement already satisfied: six in /usr/local/lib/python3.6/dist-packages (from responses) (1.15.0)\n",
            "Requirement already satisfied: requests>=2.0 in /usr/local/lib/python3.6/dist-packages (from responses) (2.23.0)\n",
            "Collecting urllib3>=1.25.10\n",
            "\u001b[?25l  Downloading https://files.pythonhosted.org/packages/23/fc/8a49991f7905261f9ca9df5aa9b58363c3c821ce3e7f671895442b7100f2/urllib3-1.26.3-py2.py3-none-any.whl (137kB)\n",
            "\u001b[K     |████████████████████████████████| 143kB 6.7MB/s \n",
            "\u001b[?25hRequirement already satisfied: idna<3,>=2.5 in /usr/local/lib/python3.6/dist-packages (from requests>=2.0->responses) (2.10)\n",
            "Requirement already satisfied: certifi>=2017.4.17 in /usr/local/lib/python3.6/dist-packages (from requests>=2.0->responses) (2020.12.5)\n",
            "Requirement already satisfied: chardet<4,>=3.0.2 in /usr/local/lib/python3.6/dist-packages (from requests>=2.0->responses) (3.0.4)\n",
            "\u001b[31mERROR: requests 2.23.0 has requirement urllib3!=1.25.0,!=1.25.1,<1.26,>=1.21.1, but you'll have urllib3 1.26.3 which is incompatible.\u001b[0m\n",
            "\u001b[31mERROR: datascience 0.10.6 has requirement folium==0.2.1, but you'll have folium 0.8.3 which is incompatible.\u001b[0m\n",
            "Installing collected packages: urllib3, responses\n",
            "  Found existing installation: urllib3 1.24.3\n",
            "    Uninstalling urllib3-1.24.3:\n",
            "      Successfully uninstalled urllib3-1.24.3\n",
            "Successfully installed responses-0.12.1 urllib3-1.26.3\n",
            "Requirement already satisfied: requests in /usr/local/lib/python3.6/dist-packages (2.23.0)\n",
            "Requirement already satisfied: idna<3,>=2.5 in /usr/local/lib/python3.6/dist-packages (from requests) (2.10)\n",
            "Requirement already satisfied: chardet<4,>=3.0.2 in /usr/local/lib/python3.6/dist-packages (from requests) (3.0.4)\n",
            "Requirement already satisfied: certifi>=2017.4.17 in /usr/local/lib/python3.6/dist-packages (from requests) (2020.12.5)\n",
            "Collecting urllib3!=1.25.0,!=1.25.1,<1.26,>=1.21.1\n",
            "\u001b[?25l  Downloading https://files.pythonhosted.org/packages/56/aa/4ef5aa67a9a62505db124a5cb5262332d1d4153462eb8fd89c9fa41e5d92/urllib3-1.25.11-py2.py3-none-any.whl (127kB)\n",
            "\u001b[K     |████████████████████████████████| 133kB 7.2MB/s \n",
            "\u001b[31mERROR: datascience 0.10.6 has requirement folium==0.2.1, but you'll have folium 0.8.3 which is incompatible.\u001b[0m\n",
            "\u001b[?25hInstalling collected packages: urllib3\n",
            "  Found existing installation: urllib3 1.26.3\n",
            "    Uninstalling urllib3-1.26.3:\n",
            "      Successfully uninstalled urllib3-1.26.3\n",
            "Successfully installed urllib3-1.25.11\n",
            "Requirement already satisfied: pandas in /usr/local/lib/python3.6/dist-packages (1.1.5)\n",
            "Requirement already satisfied: pytz>=2017.2 in /usr/local/lib/python3.6/dist-packages (from pandas) (2018.9)\n",
            "Requirement already satisfied: numpy>=1.15.4 in /usr/local/lib/python3.6/dist-packages (from pandas) (1.19.5)\n",
            "Requirement already satisfied: python-dateutil>=2.7.3 in /usr/local/lib/python3.6/dist-packages (from pandas) (2.8.1)\n",
            "Requirement already satisfied: six>=1.5 in /usr/local/lib/python3.6/dist-packages (from python-dateutil>=2.7.3->pandas) (1.15.0)\n",
            "Requirement already satisfied: numpy in /usr/local/lib/python3.6/dist-packages (1.19.5)\n",
            "\u001b[31mERROR: Could not find a version that satisfies the requirement time (from versions: none)\u001b[0m\n",
            "\u001b[31mERROR: No matching distribution found for time\u001b[0m\n"
          ],
          "name": "stdout"
        }
      ]
    },
    {
      "cell_type": "code",
      "metadata": {
        "id": "s-ODOP5JmYiQ"
      },
      "source": [
        "#importing packages\r\n",
        "import responses\r\n",
        "import requests\r\n",
        "import pandas as pd\r\n",
        "import numpy as np\r\n",
        "import time"
      ],
      "execution_count": null,
      "outputs": []
    },
    {
      "cell_type": "code",
      "metadata": {
        "id": "28gteApRRL55"
      },
      "source": [
        "#set API key\r\n",
        "MY_API_KEY = "
      ],
      "execution_count": null,
      "outputs": []
    },
    {
      "cell_type": "code",
      "metadata": {
        "id": "zEZ5Lfy6MJ86"
      },
      "source": [
        "#get the champion keys and corresponding name\r\n",
        "champion_info = requests.get(\"http://ddragon.leagueoflegends.com/cdn/11.2.1/data/en_US/champion.json\")\r\n",
        "champ_id = champion_info.json()['data']\r\n",
        "\r\n",
        "name = []\r\n",
        "id = []\r\n",
        "for key in champ_id:\r\n",
        "  name.append(champ_id[key]['id'])\r\n",
        "  id.append(champ_id[key]['key'])\r\n",
        "\r\n",
        "name_id = {'name': name, 'id': id}\r\n",
        "name_ids = pd.DataFrame(data = name_id)"
      ],
      "execution_count": null,
      "outputs": []
    },
    {
      "cell_type": "code",
      "metadata": {
        "colab": {
          "base_uri": "https://localhost:8080/"
        },
        "id": "BqCuCp9yW2zk",
        "outputId": "61e0543b-77b7-40c7-bc06-0711918f8560"
      },
      "source": [
        "#sort the champions by their id \r\n",
        "name_ids['id'] = name_ids['id'].astype(int)\r\n",
        "\r\n",
        "name_ids = name_ids.sort_values(by='id')\r\n",
        "\r\n",
        "select = name_ids[name_ids['id'] == 17]\r\n",
        "select['name']"
      ],
      "execution_count": null,
      "outputs": [
        {
          "output_type": "execute_result",
          "data": {
            "text/plain": [
              "122    Teemo\n",
              "Name: name, dtype: object"
            ]
          },
          "metadata": {
            "tags": []
          },
          "execution_count": 7
        }
      ]
    },
    {
      "cell_type": "code",
      "metadata": {
        "id": "YEvp4p3oNyk8",
        "colab": {
          "base_uri": "https://localhost:8080/"
        },
        "outputId": "7228242b-19f9-4bf5-dc2e-d049fb2ef665"
      },
      "source": [
        "#get current list of challenger players \r\n",
        "chall_players = requests.get(f\"https://na1.api.riotgames.com/lol/league/v4/challengerleagues/by-queue/RANKED_SOLO_5x5?api_key={MY_API_KEY}\")\r\n",
        "player_list = chall_players.json()['entries']\r\n",
        "summonerIds = []\r\n",
        "for i in range(len(player_list)):\r\n",
        "  summonerIds.append(player_list[i]['summonerId'])\r\n",
        "                     \r\n",
        "len(summonerIds) #there are currently 79 challenger players "
      ],
      "execution_count": null,
      "outputs": [
        {
          "output_type": "execute_result",
          "data": {
            "text/plain": [
              "86"
            ]
          },
          "metadata": {
            "tags": []
          },
          "execution_count": 8
        }
      ]
    },
    {
      "cell_type": "code",
      "metadata": {
        "id": "DKRJ45JVXlCA",
        "colab": {
          "base_uri": "https://localhost:8080/"
        },
        "outputId": "f43b5c0f-57f0-4a14-ee3a-bedfac5dab48"
      },
      "source": [
        "summonerIds"
      ],
      "execution_count": null,
      "outputs": [
        {
          "output_type": "execute_result",
          "data": {
            "text/plain": [
              "['f-FvU8xZ58Ca5TkkaTkh1zXmTqTspLdXGV0XR_HK2Wo_OzM',\n",
              " 'hoy1umChFCp1rTJC05AHWyOGJDtLiVVnsw1rjjtyvmOEKgxf',\n",
              " 'ZAPvmnXcR_uxRmCKK36ffAnmhHpo5BdAGwCYpQIkXkN4u68',\n",
              " '0D_zPTxaylKSd-4_QTP-CKIFiu47IqJAqLGGuziJLX0',\n",
              " 'HMZOo2edoZJzjRTDhBxJpgdYky502ECUKUl5X1BCs-AkHTA',\n",
              " '329wFQMZVY93OGLliZT2V4GedGFhRVil6ilSx6U_AnKh-wo',\n",
              " 'SS7AhtH6MFUy10Ef4qz9tHscZBcdmYfS2TA_RSwCfieH',\n",
              " '9LRLMIP3hNBToAWzI7nqjnF-HmyuLyARHFVFYCxxFqf9B6hreY__TeuLHQ',\n",
              " 'Mst0CSlqNcmHr9r71_s5IYQI2mkBM29eupAXeULg0g4WpoQ',\n",
              " 'UZI1TvKH624Sr9JdS5R5HDs-r8DY4PKaAppsKoZ6jhVtpWI',\n",
              " 'w-KFge6OzJvhkR43u1WQuK6q-9Bh5rk8mhrVl6In72O3kvFo3OrJm1Hj5g',\n",
              " 'LyYegUyrZhdtuXZCPGSVArNiOCnVParXMKutB6Xalu8GOFQ',\n",
              " 'woV_KAkNLebllBnkt7ixv6xNOZ7Z78I3SykFiTLEz6JajEYB',\n",
              " 'p0X9sBINzEiAgyStA7B6C0b-HPInMI4EgdHsasHK1W14chw',\n",
              " 'rgsBNRoRcKs7Ygk9Uz7Vdwl6sEQmGq58CdK8HQp-vDSRAKK8VbQM2G4luw',\n",
              " 't66u622D_Y4LRy3qX9vnW2mNTIGvvwb7ROi_cksEbatkJLw',\n",
              " 'QafSpLWkPwq7FkSWcdVXsLmM7GK0-ioTvlXhzI25qi746f4',\n",
              " 'zrM7gm_S7cYv3CaPEq2aAoKQuUn5EK_73baKhj_Oew5xW_OB',\n",
              " 'UXdW9W2jhrEdYRJI1nWHqJb9SyngEPsMqEczCe8A88otisLY',\n",
              " 'iqN6U2w-7l6AmnaFAf4RMsK6ISbhbpGy8YFWCAb259onWEHl',\n",
              " 'byikbOecl01MB1Z9qecBU-aUJ2fvkggZNXQvM43j96yAwJBP',\n",
              " 'V3P3tbtylAUhTPVatPABgg6qSI-Z18nFPzb67X3CtWIM2_0',\n",
              " '7gg8XVIiHWOTJYz1bVA6PkdoF9EaGPUUf-rByt8aNKtjpoM',\n",
              " 'UlO72D9O1PAR6HYlLD7sSiolnTH6BvL9-h5Bn9rcvKgPutk',\n",
              " '8gaDfiwfQkbOJ_vN6sTyjfEk4k-dRgL_Meff-9_J8q1ZrBQ',\n",
              " 'KhGA7OOk5gNdVvkSp8hJHNopN0oJ-3WOElAJHKgmxYpgRS0',\n",
              " 'i4KO599-gLy1V5I8sO2-1oPMeLkhPy_NmlO4gUVwd8Xhqdw',\n",
              " 'ZarznsKwlg2q7M36ehD66MqAVNgwwuKPpaTkya3Wj2bTZj0',\n",
              " '0_z1a0er9XEk1H0xNgWHM6qYnHdZo68J3xrzfzZkkTrZDXs',\n",
              " 'MNYKMtSELmSR2laLn-cWQFmxqpXeQeRV0i0b7N-vyzZwsG4',\n",
              " 'R7c7nH2zSKsj4d-qpYunLdxjlurpRTjiurbHLn-Jh6Pb6Os',\n",
              " 'cwEi-ygu2Uixq6rUofN18QzuV7rRgb1WtXEaIqFaFys3Mh4',\n",
              " 'bbf162aQDmHynWMAkWeP8VqRrpuY7nVf-EGe96vZlbp9A3c',\n",
              " '1lOkcGCIyY_t017chiumCX7hGHZfLyeIGmbTAyUSE_TM6it_',\n",
              " '73zMraJIx0Lu57tKcFUy4y29POJhr_wXyUavedLSFkDbGa0',\n",
              " 'or70FNfKduY_jwdpxlznmICe-Pz-WC9S6wC3ckqgkJbqNMqa',\n",
              " 'u1wDhJbkr27xwoPmeSYrEAC4lt9D_NF5wEphc_S0vx2AW60',\n",
              " 'x32ZvdBWwW-OagTDwZCqdTWGsjlTZp_bhZJvX_Qb8sXHnVY',\n",
              " '4u-A8skopdKhK1NfAnKWqVRI2zeAK0AUfTj_HxJN126-dZtF',\n",
              " '0SgCaSlLEALJTpMqMTkpiX-ZyaUTudVD1NqOIY4dZPuzLQ3S1gQ5z6GD_Q',\n",
              " 'HHy4IGWle9O0QlhIQvuyadPyRkhyDcZULgDS3HdoVTZQa3A',\n",
              " 'yZAlmvBybBCFyrtwcjBKP5C4Oegxs6x40JFXMMXzyL-bggEhVsO7FNOiUA',\n",
              " 'g75_qwjxxeOdPDx0Qw1mF-vgbFjYEZKPjjBW7M65fog3vy4',\n",
              " 'tE3PQf4MwpjwGdg9dwQurnWbAq6u_5dBzE6tL3D7JRarRbg',\n",
              " 'XraN9cpiK9jzrdlxaw1J5anldVvPGBpE4vQvIpilTkZsO2I',\n",
              " '5U3vL8f-if1Xanu35ZGgBw6o8jhaR_mqFJOUZ592IFfeO7o',\n",
              " 'Tf8xSV8w4zhR5fCVstZ4qhyF2KFTJBokdR1vzKKnRjX6nQA',\n",
              " 'FYbVU9Xp06asqsQzRjwIE3pgyrhQCm38O2UHZXyUt_zVpWE',\n",
              " 'SuP5t-ccZlHrYaHwS-oO9r2Z5_t2qSE2faNUiAg3ZR_opOo',\n",
              " 'E2uzbouCnkThJi9H2EEe6DUBEuZ7o4NDeJGlZkglT08Sb-M8',\n",
              " 'c5E-adsysHalZJb0U4iohIT6Ynza8rYBoUWTbbxJeQXAXrc',\n",
              " 'zknPqJMVOIp_gPFu3R-mXFDNQfI2PmfMVt8CGp9dk8h5_-8',\n",
              " '7cHUGEVppY7m3TqX0ahftTis7LQvajxFj2-6lhpBdgum4W0ZNE1Ny7Ol_Q',\n",
              " 'pyKOWyPSu7mlIsfBAqRyWzjcGbbQ0if93__q-pOCYhg2tZM',\n",
              " '4UcHqu62i1AQxnYb5yvXU4rlW61Hh2QmaYsTmYFfRjcLPqbcvWMcIXN86A',\n",
              " 'dYQ1EDnbZ5y_w74usU63MqeoLzVfRAX2yKLnsN1sgczLf-Y',\n",
              " 'eeg9lG3YwIVRME4YbLgk8rMLVyJNdPALW5wrJY8gITEfU9U',\n",
              " '0aagC6e2ga48l09JVBvMxbB3hq-XwTMuCGNOB346Pq5GLzlxPra8_a3tNw',\n",
              " 'WtI0dubD1KWEYP3i_aNHhDlUO4ptOAtBdA8_a2j59lRvRCk',\n",
              " 'aP-8WN4KP-fTBmXrJMJdS4amQju3upb-HIlVPDYv4qqXVSQ',\n",
              " 'DxBIN0_NXvsHXVKRMyRkBicjk3HLWrmD9do6lJWc7-SI0Uk',\n",
              " 'GHVfUZzRTMbUJWMFX0pTIV9Y0-2QcmDxUShh9Nqktw-9NwU',\n",
              " 'm1tkePMRNtCG1bwP7ST4NHT_VB5GFTvZ7XTHgu_swb8n2j8S',\n",
              " 'sTldzJuLM69NlT7UW6O3q4_846kOp4szY8TuNW6C93-UGcKtDRCwLcIg3A',\n",
              " '02-2oPq3pxOZ3RWWgdU0wWCZyAc5evAX8T1ZVdU3-qw1LNc',\n",
              " 'wdy-gOFs3G20kjFWxkQnU31OEJuONYUXrclWsA9MJhEhXR4',\n",
              " 'HXwtZnuY-bAOonUlfD7cQrUIpY5XJM59T0D0PDPx9z-kxhINQt5DDvDgvQ',\n",
              " 'nshYsDGcRKZ3-aNpGWlHN7oqqVwT-gLnK6bq0LupvNFY5V-5z6VW4oBoDw',\n",
              " '8K1Jr-5WfxALaeV7bICP07spwkv_8ugNMbSTAOpmMB9u91I',\n",
              " 'qcqttos9B7N_1Wj3K9U0uMqyHdreWa33YR949j5O8QE8pvo',\n",
              " 'WS_dVsEhStEHPvoOH0NVtcJJPKQVqLm2AOS9fFpPeMi7SXY',\n",
              " 'X9O8LOXy-mUtocVuIPoVRfqV_9IqpDl_E0jEy4V4JDKa4c8',\n",
              " 'Rq_-tS_MC1iM9-SXEfY9bhmIvVeNtneY_9aZz8IBx0Ijxgw',\n",
              " 'i9FwC-ZhsCrW-kFsR9y_hRo6KL5uCsNEEaXazNQTl2FMBWg',\n",
              " 'dHUUjepudDkeJopfR0rZ0FW2Nfx5Yz9in-RU2odHLV5lEGs',\n",
              " '5xXfSL3kiFURW3ordsAiJwjU_7RrJYy5UPYZHs75E_f3EUE',\n",
              " 'yvs4SXnlC-6FcWsKSjnusr3zFeTS86wJph2gKzAUvqfJ_I5x',\n",
              " 'Qo7Y04TvARfaLpxWN74sWStYq60Vrh4qySAgvoBsEgmstSw',\n",
              " 'FbX9H2oDY7MCJ_aaUJOlCHWSgND2-CKdlYb62QHJ8eDnIVg',\n",
              " '-LUvElhsa0TQhvO9JnyHw9VmRuad1OntE-84Ek_5Knu23XM',\n",
              " 'uB7jW4S0CGz9f6Om5DtpIemWgS8YsX7oqMj5Nw5RvG75Gf90X25mbmE4Sg',\n",
              " 'Lyopqyie9NvFgCuaZZo0AVYHHpX37XYIqanJiwRMDcyg6hQ',\n",
              " 'TXTU-4At5qHeLjxu5UfCa4j8cbLXSRdYFSjRfLB0iK2mrDs',\n",
              " 'O_UtmN7RYdfT0S5Tbep3oHAcql-JSUf2vyyTA-RFiwuUXBs',\n",
              " 'Qm7Lh6HZmeY6vFNzHy7fHXR7pcTGtREOKM6VEq2KY_IzMZI',\n",
              " '-O96krYPby-xsrCC8nSrEiAVKHvLlnyTKLPu2rnsghQz']"
            ]
          },
          "metadata": {
            "tags": []
          },
          "execution_count": 9
        }
      ]
    },
    {
      "cell_type": "code",
      "metadata": {
        "id": "OhsJCpMocK5b"
      },
      "source": [
        "#get accountIds of the challenger players\r\n",
        "accountIds = []\r\n",
        "for i in range(len(summonerIds)):\r\n",
        "  summoner_info = requests.get(f\"https://na1.api.riotgames.com/lol/summoner/v4/summoners/{summonerIds[i]}?api_key={MY_API_KEY}\")\r\n",
        "  account_id = summoner_info.json()['accountId']\r\n",
        "  accountIds.append(account_id)\r\n",
        "  time.sleep(0.5)\r\n",
        "\r\n"
      ],
      "execution_count": null,
      "outputs": []
    },
    {
      "cell_type": "code",
      "metadata": {
        "colab": {
          "base_uri": "https://localhost:8080/"
        },
        "id": "VSDR178jXWcH",
        "outputId": "70dcf9ff-6220-4acb-a66a-ee31ddf306c0"
      },
      "source": [
        "len(accountIds)"
      ],
      "execution_count": null,
      "outputs": [
        {
          "output_type": "execute_result",
          "data": {
            "text/plain": [
              "86"
            ]
          },
          "metadata": {
            "tags": []
          },
          "execution_count": 11
        }
      ]
    },
    {
      "cell_type": "code",
      "metadata": {
        "id": "rv5ysnCivhkW"
      },
      "source": [
        "#get match history of each player using the accountIds \r\n",
        "match_list = []\r\n",
        "for i in range(len(accountIds)):\r\n",
        "  player_match_list = requests.get(f\"https://na1.api.riotgames.com/lol/match/v4/matchlists/by-account/{accountIds[i]}?api_key={MY_API_KEY}\")\r\n",
        "  matches = player_match_list.json()\r\n",
        "  match_list.append(matches)\r\n",
        "  time.sleep(0.5)\r\n"
      ],
      "execution_count": null,
      "outputs": []
    },
    {
      "cell_type": "code",
      "metadata": {
        "id": "8kjPN7DW3vrJ",
        "colab": {
          "base_uri": "https://localhost:8080/"
        },
        "outputId": "f9a4c114-498c-46de-8aff-976ed02ea970"
      },
      "source": [
        "len(match_list)"
      ],
      "execution_count": null,
      "outputs": [
        {
          "output_type": "execute_result",
          "data": {
            "text/plain": [
              "86"
            ]
          },
          "metadata": {
            "tags": []
          },
          "execution_count": 13
        }
      ]
    },
    {
      "cell_type": "code",
      "metadata": {
        "id": "fWkNMQc3y6B1",
        "colab": {
          "base_uri": "https://localhost:8080/"
        },
        "outputId": "611f99fa-980c-41dc-f37e-1e47b75c655f"
      },
      "source": [
        "#turn it into one long list of games\r\n",
        "player_matches = []\r\n",
        "\r\n",
        "for i in range(len(match_list)):\r\n",
        "  try:\r\n",
        "    player_matches.append(match_list[i]['matches'])\r\n",
        "  except: \r\n",
        "    continue\r\n",
        "\r\n",
        "len(player_matches)\r\n",
        "\r\n"
      ],
      "execution_count": null,
      "outputs": [
        {
          "output_type": "execute_result",
          "data": {
            "text/plain": [
              "49"
            ]
          },
          "metadata": {
            "tags": []
          },
          "execution_count": 15
        }
      ]
    },
    {
      "cell_type": "code",
      "metadata": {
        "id": "J3SaFdp9WgN1"
      },
      "source": [
        "#unroll to get the total amount of games\r\n",
        "single_match_data = []\r\n",
        "\r\n",
        "for i in range(len(player_matches)):\r\n",
        "  for j in range(len(player_matches[i])):\r\n",
        "    single_match_data.append(player_matches[i][j])\r\n",
        "\r\n"
      ],
      "execution_count": null,
      "outputs": []
    },
    {
      "cell_type": "code",
      "metadata": {
        "colab": {
          "base_uri": "https://localhost:8080/"
        },
        "id": "ydzvsP1MZEit",
        "outputId": "cefdbc1a-d738-4908-af8f-a051a377a7ab"
      },
      "source": [
        "#how many games were there \r\n",
        "len(single_match_data)"
      ],
      "execution_count": null,
      "outputs": [
        {
          "output_type": "execute_result",
          "data": {
            "text/plain": [
              "4893"
            ]
          },
          "metadata": {
            "tags": []
          },
          "execution_count": 17
        }
      ]
    },
    {
      "cell_type": "code",
      "metadata": {
        "id": "NH_DOsedWiTp"
      },
      "source": [
        "#get id of each match to access the statistics from each game\r\n",
        "gameId = []\r\n",
        "\r\n",
        "for i in range(len(single_match_data)):\r\n",
        "  gameId.append(single_match_data[i]['gameId'])\r\n",
        "  "
      ],
      "execution_count": null,
      "outputs": []
    },
    {
      "cell_type": "code",
      "metadata": {
        "id": "uKBQGZ3r5Sri",
        "colab": {
          "base_uri": "https://localhost:8080/"
        },
        "outputId": "4969a461-4694-4f23-96f9-ff45a98870f8"
      },
      "source": [
        "#get unique games for no repeats  \r\n",
        "gameIds = np.unique(gameId)\r\n",
        "\r\n",
        "len(gameIds)"
      ],
      "execution_count": null,
      "outputs": [
        {
          "output_type": "execute_result",
          "data": {
            "text/plain": [
              "3381"
            ]
          },
          "metadata": {
            "tags": []
          },
          "execution_count": 19
        }
      ]
    },
    {
      "cell_type": "code",
      "metadata": {
        "id": "uSuCB97mYi3d"
      },
      "source": [
        "#get 100 matches information using the gameIds just for example \r\n",
        "raw_match_data = []\r\n",
        "\r\n",
        "for i in range(100):\r\n",
        "  raw_match_info = requests.get(f\"https://na1.api.riotgames.com/lol/match/v4/matches/{gameId[i]}?api_key={MY_API_KEY}\")\r\n",
        "  raw_match_data.append(raw_match_info.json())\r\n",
        "  time.sleep(0.5)\r\n",
        "\r\n"
      ],
      "execution_count": null,
      "outputs": []
    },
    {
      "cell_type": "code",
      "metadata": {
        "id": "opEW-qE9awu0",
        "colab": {
          "base_uri": "https://localhost:8080/"
        },
        "outputId": "7025ed64-db3a-4d69-d2f9-82ecfcea3dc3"
      },
      "source": [
        "len(raw_match_data)"
      ],
      "execution_count": null,
      "outputs": [
        {
          "output_type": "execute_result",
          "data": {
            "text/plain": [
              "100"
            ]
          },
          "metadata": {
            "tags": []
          },
          "execution_count": 21
        }
      ]
    },
    {
      "cell_type": "code",
      "metadata": {
        "id": "3AcBePLdZ06j"
      },
      "source": [
        "raw_match_data[0]\r\n"
      ],
      "execution_count": null,
      "outputs": []
    },
    {
      "cell_type": "code",
      "metadata": {
        "id": "xOonA0sKdtTc"
      },
      "source": [
        "raw_match_data[0]['participantIdentities'][0]['player']['summonerName']"
      ],
      "execution_count": null,
      "outputs": []
    },
    {
      "cell_type": "code",
      "metadata": {
        "id": "WhwazwIfgS_Q"
      },
      "source": [
        "test_game = raw_match_data[0]\r\n",
        "\r\n",
        "test_game['teams'][0]"
      ],
      "execution_count": null,
      "outputs": []
    },
    {
      "cell_type": "code",
      "metadata": {
        "id": "f0GkZjB-AXAv"
      },
      "source": [
        "def get_champ_name(id):\r\n",
        "  '''replaces champ ids with champ names'''\r\n",
        "  name = name_ids.loc[name_ids['id'] == id].values[0]\r\n",
        "  return name[0]"
      ],
      "execution_count": null,
      "outputs": []
    },
    {
      "cell_type": "code",
      "metadata": {
        "colab": {
          "base_uri": "https://localhost:8080/",
          "height": 37
        },
        "id": "HABA1J9NAYbZ",
        "outputId": "34494f6e-ddeb-4abd-ec14-aa72e743f70f"
      },
      "source": [
        "test_name = get_champ_name(15)\r\n",
        "\r\n",
        "test_name"
      ],
      "execution_count": null,
      "outputs": [
        {
          "output_type": "execute_result",
          "data": {
            "application/vnd.google.colaboratory.intrinsic+json": {
              "type": "string"
            },
            "text/plain": [
              "'Sivir'"
            ]
          },
          "metadata": {
            "tags": []
          },
          "execution_count": 25
        }
      ]
    },
    {
      "cell_type": "code",
      "metadata": {
        "id": "GGrFc5vYuHis"
      },
      "source": [
        "#make a match info where we have:the role and champ each player played, their GPM/EPM and if they won the game \r\n",
        "\r\n",
        "def match_stats(game):\r\n",
        "  '''Takes in a single game and retrieves specified information from the game and returns a dataframe of the information'''\r\n",
        "  summoner_name = [] #summonerName\r\n",
        "  champions = [] #championId\r\n",
        "  team = [] #teamId\r\n",
        "  gold_per_min = [] #gold per minute\r\n",
        "  exp_per_min = [] #experience per minute \r\n",
        "  lane = [] #what lane they played in (guess by riot)\r\n",
        "  role = [] #what role they were (guess by riot)\r\n",
        "  win = [] #did this player win\r\n",
        "\r\n",
        "  for i in range(10): #loop over each player in the game \r\n",
        "    \r\n",
        "    player_info = game['participantIdentities'] #get summoner names \r\n",
        "    summoner_name.append(player_info[i]['player']['summonerName']) \r\n",
        "\r\n",
        "    player_stats = game['participants'] #get stats about player \r\n",
        "    champions.append(player_stats[i]['championId']) #what champ they played\r\n",
        "    champions[i] = get_champ_name(champions[i])\r\n",
        "\r\n",
        "    team.append(player_stats[i]['teamId']) #which team they were on\r\n",
        "\r\n",
        "    player_timeline = player_stats[i]['timeline'] #access the gpm and exp\r\n",
        "    gold_per_min.append(player_timeline['goldPerMinDeltas']['0-10'])\r\n",
        "    exp_per_min.append(player_timeline['xpPerMinDeltas']['0-10'])\r\n",
        "    lane.append(player_timeline['lane'])\r\n",
        "    role.append(player_timeline['role'])                   \r\n",
        "\r\n",
        "\r\n",
        "    teams = game['teams']\r\n",
        "    if team[i] == 100:\r\n",
        "      win.append(teams[0]['win'])\r\n",
        "    else: \r\n",
        "      win.append(teams[1]['win'])\r\n",
        "  \r\n",
        "  match_info = {'summoner_name': summoner_name, \r\n",
        "                'champion': champions, \r\n",
        "                'team': team,\r\n",
        "                'gold_per_min': gold_per_min,\r\n",
        "                'exp_per_min': exp_per_min,\r\n",
        "                'lane': lane,\r\n",
        "                'role': role,\r\n",
        "                'win': win\r\n",
        "  }\r\n",
        "\r\n",
        "  match_df = pd.DataFrame(data = match_info)\r\n",
        "\r\n",
        "  return match_df\r\n",
        "\r\n",
        "\r\n",
        "def match_data(match_list):\r\n",
        "  '''Takes in a list of games and returns the desired information of each game in a list ?'''\r\n",
        "  match_data = []\r\n",
        "  \r\n",
        "  for i in range(len(match_list)):\r\n",
        "    match_data.append(match_stats(match_list[i]))\r\n",
        "\r\n",
        "  return match_data\r\n",
        "\r\n",
        "\r\n"
      ],
      "execution_count": null,
      "outputs": []
    },
    {
      "cell_type": "code",
      "metadata": {
        "colab": {
          "base_uri": "https://localhost:8080/",
          "height": 208
        },
        "id": "MPpSEEUd5YUo",
        "outputId": "7d5f3d84-2035-45a9-d989-82a4349086a6"
      },
      "source": [
        "match_data = match_data(raw_match_data[0:5])\r\n",
        "\r\n"
      ],
      "execution_count": null,
      "outputs": [
        {
          "output_type": "error",
          "ename": "TypeError",
          "evalue": "ignored",
          "traceback": [
            "\u001b[0;31m---------------------------------------------------------------------------\u001b[0m",
            "\u001b[0;31mTypeError\u001b[0m                                 Traceback (most recent call last)",
            "\u001b[0;32m<ipython-input-35-37b4c77b76a1>\u001b[0m in \u001b[0;36m<module>\u001b[0;34m()\u001b[0m\n\u001b[0;32m----> 1\u001b[0;31m \u001b[0mmatch_data\u001b[0m \u001b[0;34m=\u001b[0m \u001b[0mmatch_data\u001b[0m\u001b[0;34m(\u001b[0m\u001b[0mraw_match_data\u001b[0m\u001b[0;34m[\u001b[0m\u001b[0;36m0\u001b[0m\u001b[0;34m:\u001b[0m\u001b[0;36m5\u001b[0m\u001b[0;34m]\u001b[0m\u001b[0;34m)\u001b[0m\u001b[0;34m\u001b[0m\u001b[0;34m\u001b[0m\u001b[0m\n\u001b[0m\u001b[1;32m      2\u001b[0m \u001b[0;34m\u001b[0m\u001b[0m\n\u001b[1;32m      3\u001b[0m \u001b[0mprint\u001b[0m\u001b[0;34m(\u001b[0m\u001b[0mmatch_data\u001b[0m\u001b[0;34m[\u001b[0m\u001b[0;36m0\u001b[0m\u001b[0;34m]\u001b[0m\u001b[0;34m)\u001b[0m\u001b[0;34m\u001b[0m\u001b[0;34m\u001b[0m\u001b[0m\n",
            "\u001b[0;31mTypeError\u001b[0m: 'list' object is not callable"
          ]
        }
      ]
    },
    {
      "cell_type": "code",
      "metadata": {
        "id": "aZzQBUIr5xWn",
        "colab": {
          "base_uri": "https://localhost:8080/"
        },
        "outputId": "bb9591dd-6b3a-4400-ce25-5ebba2b769d5"
      },
      "source": [
        "print(match_data[0])"
      ],
      "execution_count": null,
      "outputs": [
        {
          "output_type": "stream",
          "text": [
            "     summoner_name     champion  team  ...    lane         role   win\n",
            "0     xihuan juice        Yuumi   100  ...  MIDDLE  DUO_SUPPORT   Win\n",
            "1    s0rrymaker123  TwistedFate   100  ...  MIDDLE          DUO   Win\n",
            "2          TSM Heo        Quinn   100  ...     TOP         SOLO   Win\n",
            "3        EG deftly        Kaisa   100  ...  MIDDLE          DUO   Win\n",
            "4   a little st0ry      Taliyah   100  ...  JUNGLE         NONE   Win\n",
            "5     Romanium 1v9     Renekton   200  ...     TOP         SOLO  Fail\n",
            "6        agorinass         Yone   200  ...  MIDDLE         SOLO  Fail\n",
            "7  wqretgdtfdhsdda    Seraphine   200  ...  BOTTOM    DUO_CARRY  Fail\n",
            "8          Swkeeee          Lux   200  ...  BOTTOM  DUO_SUPPORT  Fail\n",
            "9    no invade pls      Kindred   200  ...  JUNGLE         NONE  Fail\n",
            "\n",
            "[10 rows x 8 columns]\n"
          ],
          "name": "stdout"
        }
      ]
    }
  ]
}
